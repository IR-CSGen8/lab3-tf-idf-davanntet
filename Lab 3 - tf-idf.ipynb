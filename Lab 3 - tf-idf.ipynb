{
 "cells": [
  {
   "cell_type": "code",
   "execution_count": 72,
   "id": "720e4280",
   "metadata": {
    "ExecuteTime": {
     "end_time": "2023-10-05T07:52:26.987268500Z",
     "start_time": "2023-10-05T07:52:26.982733500Z"
    }
   },
   "outputs": [],
   "source": [
    "import pandas as pd\n",
    "import math #important library , calculate log\n",
    "import string\n",
    "import numpy as np"
   ]
  },
  {
   "cell_type": "code",
   "execution_count": 102,
   "id": "1bd950e3",
   "metadata": {
    "ExecuteTime": {
     "end_time": "2023-10-05T08:02:29.904569900Z",
     "start_time": "2023-10-05T08:02:29.901081700Z"
    }
   },
   "outputs": [],
   "source": [
    "# Sample collection of documents\n",
    "documents = [\n",
    "    \"Scientists have discovered a new species of marine life in the deep ocean.\",\n",
    "    \"NASA's Mars rover is searching for signs of ancient life on the Red Planet.\",\n",
    "    \"The stock market experienced a significant drop in trading today.\",\n",
    "    \"Astronomers have identified a distant galaxy with unusual star formations.\",\n",
    "    \"The government announced new measures to combat climate change.\"\n",
    "]\n"
   ]
  },
  {
   "cell_type": "code",
   "execution_count": 103,
   "id": "c5ea50c8",
   "metadata": {
    "ExecuteTime": {
     "end_time": "2023-10-05T08:02:31.942491700Z",
     "start_time": "2023-10-05T08:02:31.934881400Z"
    }
   },
   "outputs": [
    {
     "data": {
      "text/plain": "{'species': 'species',\n 'oceans': 'ocean',\n \"ocean's\": 'ocean',\n 'rover': 'rover',\n 'discovered': 'discover',\n 'experienced': 'experience',\n 'rovers': 'rover',\n 'trading': 'trade',\n 'identified': 'identify',\n 'identifies': 'identify',\n 'formations': 'formation',\n 'governments': 'government',\n 'measures': 'measure'}"
     },
     "execution_count": 103,
     "metadata": {},
     "output_type": "execute_result"
    }
   ],
   "source": [
    "# Create a dictionary for lemmatization (a simple example, not comprehensive)\n",
    "\n",
    "lemmatization_dict = {\n",
    "    \"species\": \"specie\",\n",
    "    \"species\": \"species\",\n",
    "    \"oceans\": \"ocean\",\n",
    "    \"ocean's\": \"ocean\",\n",
    "    \"rover\": \"rover\",\n",
    "    \"discovered\":\"discover\",\n",
    "    \"experienced\":\"experience\",\n",
    "    \"rovers\": \"rover\",\n",
    "    \"trading\": \"trade\",\n",
    "    \"identified\": \"identify\",\n",
    "    \"identifies\": \"identify\",\n",
    "    \"formations\": \"formation\",\n",
    "    \"governments\": \"government\",\n",
    "    \"measures\": \"measure\"\n",
    "}\n",
    "\n",
    "lemmatization_dict"
   ]
  },
  {
   "cell_type": "code",
   "execution_count": null,
   "id": "16f1f652",
   "metadata": {},
   "outputs": [],
   "source": [
    "# terms = [lemmatization_dict.get(term, term) for term in terms]\n",
    "# terms"
   ]
  },
  {
   "cell_type": "code",
   "execution_count": 104,
   "id": "ed247b38",
   "metadata": {
    "ExecuteTime": {
     "end_time": "2023-10-05T08:02:42.150310900Z",
     "start_time": "2023-10-05T08:02:42.144796300Z"
    }
   },
   "outputs": [],
   "source": [
    "# Tokenize documents into words (terms), remove punctuation, and lemmatize\n",
    "def preprocess_text(document):\n",
    "    terms = document.lower().split()\n",
    "    terms = [term.strip(string.punctuation) for term in terms]\n",
    "    terms = [lemmatization_dict.get(term, term) for term in terms]\n",
    "    return terms"
   ]
  },
  {
   "cell_type": "code",
   "execution_count": 105,
   "id": "34cee75d",
   "metadata": {
    "ExecuteTime": {
     "end_time": "2023-10-05T08:02:44.618627100Z",
     "start_time": "2023-10-05T08:02:44.609979300Z"
    }
   },
   "outputs": [
    {
     "data": {
      "text/plain": "{'a',\n 'ancient',\n 'announced',\n 'astronomers',\n 'change',\n 'climate',\n 'combat',\n 'deep',\n 'discover',\n 'distant',\n 'drop',\n 'experience',\n 'for',\n 'formation',\n 'galaxy',\n 'government',\n 'have',\n 'identify',\n 'in',\n 'is',\n 'life',\n 'marine',\n 'market',\n 'mars',\n 'measure',\n \"nasa's\",\n 'new',\n 'ocean',\n 'of',\n 'on',\n 'planet',\n 'red',\n 'rover',\n 'scientists',\n 'searching',\n 'significant',\n 'signs',\n 'species',\n 'star',\n 'stock',\n 'the',\n 'to',\n 'today',\n 'trade',\n 'unusual',\n 'with'}"
     },
     "execution_count": 105,
     "metadata": {},
     "output_type": "execute_result"
    }
   ],
   "source": [
    "# Create a set of unique terms (vocabulary)\n",
    "vocabulary = {term for document in documents for term in preprocess_text(document)}\n",
    "# you code here ...\n",
    "vocabulary"
   ]
  },
  {
   "cell_type": "code",
   "execution_count": 127,
   "id": "da0c442a",
   "metadata": {
    "ExecuteTime": {
     "end_time": "2023-10-05T08:06:39.015922400Z",
     "start_time": "2023-10-05T08:06:39.006202900Z"
    }
   },
   "outputs": [
    {
     "data": {
      "text/plain": "{'searching': [0, 0, 0, 0, 0],\n 'formation': [0, 0, 0, 0, 0],\n 'mars': [0, 0, 0, 0, 0],\n 'scientists': [0, 0, 0, 0, 0],\n 'with': [0, 0, 0, 0, 0],\n 'life': [0, 0, 0, 0, 0],\n 'trade': [0, 0, 0, 0, 0],\n 'unusual': [0, 0, 0, 0, 0],\n 'astronomers': [0, 0, 0, 0, 0],\n 'change': [0, 0, 0, 0, 0],\n 'galaxy': [0, 0, 0, 0, 0],\n 'drop': [0, 0, 0, 0, 0],\n 'have': [0, 0, 0, 0, 0],\n 'deep': [0, 0, 0, 0, 0],\n 'ancient': [0, 0, 0, 0, 0],\n 'climate': [0, 0, 0, 0, 0],\n 'new': [0, 0, 0, 0, 0],\n 'rover': [0, 0, 0, 0, 0],\n 'ocean': [0, 0, 0, 0, 0],\n 'the': [0, 0, 0, 0, 0],\n 'measure': [0, 0, 0, 0, 0],\n 'for': [0, 0, 0, 0, 0],\n 'identify': [0, 0, 0, 0, 0],\n 'experience': [0, 0, 0, 0, 0],\n 'market': [0, 0, 0, 0, 0],\n 'in': [0, 0, 0, 0, 0],\n 'significant': [0, 0, 0, 0, 0],\n 'discover': [0, 0, 0, 0, 0],\n 'star': [0, 0, 0, 0, 0],\n 'species': [0, 0, 0, 0, 0],\n 'is': [0, 0, 0, 0, 0],\n 'on': [0, 0, 0, 0, 0],\n 'distant': [0, 0, 0, 0, 0],\n 'combat': [0, 0, 0, 0, 0],\n 'a': [0, 0, 0, 0, 0],\n 'signs': [0, 0, 0, 0, 0],\n 'red': [0, 0, 0, 0, 0],\n 'planet': [0, 0, 0, 0, 0],\n \"nasa's\": [0, 0, 0, 0, 0],\n 'government': [0, 0, 0, 0, 0],\n 'stock': [0, 0, 0, 0, 0],\n 'today': [0, 0, 0, 0, 0],\n 'of': [0, 0, 0, 0, 0],\n 'marine': [0, 0, 0, 0, 0],\n 'announced': [0, 0, 0, 0, 0],\n 'to': [0, 0, 0, 0, 0]}"
     },
     "execution_count": 127,
     "metadata": {},
     "output_type": "execute_result"
    }
   ],
   "source": [
    "# Create a dictionary to store the term frequency (TF) for each term in each document\n",
    "tf_values = {term: [0] * len(documents) for term in vocabulary}\n",
    "tf_values"
   ]
  },
  {
   "cell_type": "code",
   "execution_count": 128,
   "id": "4fc32da4",
   "metadata": {
    "ExecuteTime": {
     "end_time": "2023-10-05T08:06:41.259413600Z",
     "start_time": "2023-10-05T08:06:41.251192900Z"
    }
   },
   "outputs": [
    {
     "data": {
      "text/plain": "{'searching': [0, 1, 0, 0, 0],\n 'formation': [0, 0, 0, 1, 0],\n 'mars': [0, 1, 0, 0, 0],\n 'scientists': [1, 0, 0, 0, 0],\n 'with': [0, 0, 0, 1, 0],\n 'life': [1, 1, 0, 0, 0],\n 'trade': [0, 0, 1, 0, 0],\n 'unusual': [0, 0, 0, 1, 0],\n 'astronomers': [0, 0, 0, 1, 0],\n 'change': [0, 0, 0, 0, 1],\n 'galaxy': [0, 0, 0, 1, 0],\n 'drop': [0, 0, 1, 0, 0],\n 'have': [1, 0, 0, 1, 0],\n 'deep': [1, 0, 0, 0, 0],\n 'ancient': [0, 1, 0, 0, 0],\n 'climate': [0, 0, 0, 0, 1],\n 'new': [1, 0, 0, 0, 1],\n 'rover': [0, 1, 0, 0, 0],\n 'ocean': [1, 0, 0, 0, 0],\n 'the': [1, 1, 1, 0, 1],\n 'measure': [0, 0, 0, 0, 1],\n 'for': [0, 1, 0, 0, 0],\n 'identify': [0, 0, 0, 1, 0],\n 'experience': [0, 0, 1, 0, 0],\n 'market': [0, 0, 1, 0, 0],\n 'in': [1, 0, 1, 0, 0],\n 'significant': [0, 0, 1, 0, 0],\n 'discover': [1, 0, 0, 0, 0],\n 'star': [0, 0, 0, 1, 0],\n 'species': [1, 0, 0, 0, 0],\n 'is': [0, 1, 0, 0, 0],\n 'on': [0, 1, 0, 0, 0],\n 'distant': [0, 0, 0, 1, 0],\n 'combat': [0, 0, 0, 0, 1],\n 'a': [1, 0, 1, 1, 0],\n 'signs': [0, 1, 0, 0, 0],\n 'red': [0, 1, 0, 0, 0],\n 'planet': [0, 1, 0, 0, 0],\n \"nasa's\": [0, 1, 0, 0, 0],\n 'government': [0, 0, 0, 0, 1],\n 'stock': [0, 0, 1, 0, 0],\n 'today': [0, 0, 1, 0, 0],\n 'of': [1, 1, 0, 0, 0],\n 'marine': [1, 0, 0, 0, 0],\n 'announced': [0, 0, 0, 0, 1],\n 'to': [0, 0, 0, 0, 1]}"
     },
     "execution_count": 128,
     "metadata": {},
     "output_type": "execute_result"
    }
   ],
   "source": [
    "# Calculate Term Frequency (TF)\n",
    "for i, document in enumerate(documents):\n",
    "    terms = preprocess_text(document)\n",
    "    for term in terms:\n",
    "        tf_values[term][i] += 1\n",
    "tf_values"
   ]
  },
  {
   "cell_type": "code",
   "execution_count": 137,
   "id": "11d91fd1",
   "metadata": {
    "ExecuteTime": {
     "end_time": "2023-10-05T08:09:38.061553900Z",
     "start_time": "2023-10-05T08:09:38.051592100Z"
    }
   },
   "outputs": [
    {
     "name": "stdout",
     "output_type": "stream",
     "text": [
      "searching : 0.9162907318741551\n",
      "formation : 0.9162907318741551\n",
      "mars : 0.9162907318741551\n",
      "scientists : 0.9162907318741551\n",
      "with : 0.9162907318741551\n",
      "life : 0.5108256237659907\n",
      "trade : 0.9162907318741551\n",
      "unusual : 0.9162907318741551\n",
      "astronomers : 0.9162907318741551\n",
      "change : 0.9162907318741551\n",
      "galaxy : 0.9162907318741551\n",
      "drop : 0.9162907318741551\n",
      "have : 0.5108256237659907\n",
      "deep : 0.9162907318741551\n",
      "ancient : 0.9162907318741551\n",
      "climate : 0.9162907318741551\n",
      "new : 0.5108256237659907\n",
      "rover : 0.9162907318741551\n",
      "ocean : 0.9162907318741551\n",
      "the : 0.0\n",
      "measure : 0.9162907318741551\n",
      "for : 0.9162907318741551\n",
      "identify : 0.9162907318741551\n",
      "experience : 0.9162907318741551\n",
      "market : 0.9162907318741551\n",
      "in : 0.5108256237659907\n",
      "significant : 0.9162907318741551\n",
      "discover : 0.9162907318741551\n",
      "star : 0.9162907318741551\n",
      "species : 0.9162907318741551\n",
      "is : 0.9162907318741551\n",
      "on : 0.9162907318741551\n",
      "distant : 0.9162907318741551\n",
      "combat : 0.9162907318741551\n",
      "a : 0.22314355131420976\n",
      "signs : 0.9162907318741551\n",
      "red : 0.9162907318741551\n",
      "planet : 0.9162907318741551\n",
      "nasa's : 0.9162907318741551\n",
      "government : 0.9162907318741551\n",
      "stock : 0.9162907318741551\n",
      "today : 0.9162907318741551\n",
      "of : 0.5108256237659907\n",
      "marine : 0.9162907318741551\n",
      "announced : 0.9162907318741551\n",
      "to : 0.9162907318741551\n"
     ]
    }
   ],
   "source": [
    "# Calculate Inverse Document Frequency (IDF)\n",
    "idf_values = {}\n",
    "total_documents = len(documents)\n",
    "for term in vocabulary:\n",
    "    document_occurences = sum([1 for document in documents if term in preprocess_text(document)])\n",
    "    idf_values[term] = math.log(total_documents / (document_occurences+1))\n",
    "    print(term,\":\",idf_values[term])\n"
   ]
  },
  {
   "cell_type": "code",
   "execution_count": 138,
   "id": "be824663",
   "metadata": {
    "ExecuteTime": {
     "end_time": "2023-10-05T08:09:42.891076900Z",
     "start_time": "2023-10-05T08:09:42.882323200Z"
    }
   },
   "outputs": [
    {
     "data": {
      "text/plain": "[[0.0,\n  0.0,\n  0.0,\n  0.9162907318741551,\n  0.0,\n  0.5108256237659907,\n  0.0,\n  0.0,\n  0.0,\n  0.0,\n  0.0,\n  0.0,\n  0.5108256237659907,\n  0.9162907318741551,\n  0.0,\n  0.0,\n  0.5108256237659907,\n  0.0,\n  0.9162907318741551,\n  0.0,\n  0.0,\n  0.0,\n  0.0,\n  0.0,\n  0.0,\n  0.5108256237659907,\n  0.0,\n  0.9162907318741551,\n  0.0,\n  0.9162907318741551,\n  0.0,\n  0.0,\n  0.0,\n  0.0,\n  0.22314355131420976,\n  0.0,\n  0.0,\n  0.0,\n  0.0,\n  0.0,\n  0.0,\n  0.0,\n  0.5108256237659907,\n  0.9162907318741551,\n  0.0,\n  0.0],\n [0.9162907318741551,\n  0.0,\n  0.9162907318741551,\n  0.0,\n  0.0,\n  0.5108256237659907,\n  0.0,\n  0.0,\n  0.0,\n  0.0,\n  0.0,\n  0.0,\n  0.0,\n  0.0,\n  0.9162907318741551,\n  0.0,\n  0.0,\n  0.9162907318741551,\n  0.0,\n  0.0,\n  0.0,\n  0.9162907318741551,\n  0.0,\n  0.0,\n  0.0,\n  0.0,\n  0.0,\n  0.0,\n  0.0,\n  0.0,\n  0.9162907318741551,\n  0.9162907318741551,\n  0.0,\n  0.0,\n  0.0,\n  0.9162907318741551,\n  0.9162907318741551,\n  0.9162907318741551,\n  0.9162907318741551,\n  0.0,\n  0.0,\n  0.0,\n  0.5108256237659907,\n  0.0,\n  0.0,\n  0.0],\n [0.0,\n  0.0,\n  0.0,\n  0.0,\n  0.0,\n  0.0,\n  0.9162907318741551,\n  0.0,\n  0.0,\n  0.0,\n  0.0,\n  0.9162907318741551,\n  0.0,\n  0.0,\n  0.0,\n  0.0,\n  0.0,\n  0.0,\n  0.0,\n  0.0,\n  0.0,\n  0.0,\n  0.0,\n  0.9162907318741551,\n  0.9162907318741551,\n  0.5108256237659907,\n  0.9162907318741551,\n  0.0,\n  0.0,\n  0.0,\n  0.0,\n  0.0,\n  0.0,\n  0.0,\n  0.22314355131420976,\n  0.0,\n  0.0,\n  0.0,\n  0.0,\n  0.0,\n  0.9162907318741551,\n  0.9162907318741551,\n  0.0,\n  0.0,\n  0.0,\n  0.0],\n [0.0,\n  0.9162907318741551,\n  0.0,\n  0.0,\n  0.9162907318741551,\n  0.0,\n  0.0,\n  0.9162907318741551,\n  0.9162907318741551,\n  0.0,\n  0.9162907318741551,\n  0.0,\n  0.5108256237659907,\n  0.0,\n  0.0,\n  0.0,\n  0.0,\n  0.0,\n  0.0,\n  0.0,\n  0.0,\n  0.0,\n  0.9162907318741551,\n  0.0,\n  0.0,\n  0.0,\n  0.0,\n  0.0,\n  0.9162907318741551,\n  0.0,\n  0.0,\n  0.0,\n  0.9162907318741551,\n  0.0,\n  0.22314355131420976,\n  0.0,\n  0.0,\n  0.0,\n  0.0,\n  0.0,\n  0.0,\n  0.0,\n  0.0,\n  0.0,\n  0.0,\n  0.0],\n [0.0,\n  0.0,\n  0.0,\n  0.0,\n  0.0,\n  0.0,\n  0.0,\n  0.0,\n  0.0,\n  0.9162907318741551,\n  0.0,\n  0.0,\n  0.0,\n  0.0,\n  0.0,\n  0.9162907318741551,\n  0.5108256237659907,\n  0.0,\n  0.0,\n  0.0,\n  0.9162907318741551,\n  0.0,\n  0.0,\n  0.0,\n  0.0,\n  0.0,\n  0.0,\n  0.0,\n  0.0,\n  0.0,\n  0.0,\n  0.0,\n  0.0,\n  0.9162907318741551,\n  0.0,\n  0.0,\n  0.0,\n  0.0,\n  0.0,\n  0.9162907318741551,\n  0.0,\n  0.0,\n  0.0,\n  0.0,\n  0.9162907318741551,\n  0.9162907318741551]]"
     },
     "execution_count": 138,
     "metadata": {},
     "output_type": "execute_result"
    }
   ],
   "source": [
    "# Calculate TF-IDF values\n",
    "tfidf_values = []\n",
    "for i, document in enumerate(documents):\n",
    "    terms = preprocess_text(document)\n",
    "    tfidf_document = []\n",
    "    for term in vocabulary:\n",
    "        tf = tf_values[term][i]\n",
    "        idf = idf_values[term]\n",
    "        tfidf = tf * idf\n",
    "        tfidf_document.append(tfidf)\n",
    "    tfidf_values.append(tfidf_document)\n",
    "tfidf_values"
   ]
  },
  {
   "cell_type": "code",
   "execution_count": 140,
   "id": "99f53d98",
   "metadata": {
    "ExecuteTime": {
     "end_time": "2023-10-05T08:10:08.944467800Z",
     "start_time": "2023-10-05T08:10:08.927558600Z"
    }
   },
   "outputs": [
    {
     "name": "stdout",
     "output_type": "stream",
     "text": [
      "TF-IDF:\n"
     ]
    },
    {
     "data": {
      "text/plain": "0    0.916291\n1    0.000000\n2    0.000000\n3    0.000000\n4    0.000000\nName: scientists, dtype: float64"
     },
     "execution_count": 140,
     "metadata": {},
     "output_type": "execute_result"
    }
   ],
   "source": [
    "# Convert TF-IDF values to a DataFrame\n",
    "df_tfidf = pd.DataFrame(tfidf_values, columns=list(vocabulary))\n",
    "\n",
    "# Display TF-IDF results\n",
    "print(\"TF-IDF:\")\n",
    "df_tfidf['scientists']"
   ]
  },
  {
   "cell_type": "code",
   "execution_count": 111,
   "id": "9fcbe8e5",
   "metadata": {
    "ExecuteTime": {
     "end_time": "2023-10-05T08:03:15.674259100Z",
     "start_time": "2023-10-05T08:03:15.666706100Z"
    }
   },
   "outputs": [],
   "source": [
    "# Save TF-IDF results to a CSV file (optional)\n",
    "df_tfidf.to_csv(\"tfidf_custom_preprocessed_news.csv\", index=False)"
   ]
  },
  {
   "cell_type": "markdown",
   "id": "36077c4e",
   "metadata": {},
   "source": [
    "# Using Libraries for Lemmatization and Tf-Idf"
   ]
  },
  {
   "cell_type": "code",
   "execution_count": 79,
   "id": "0495e332",
   "metadata": {
    "ExecuteTime": {
     "end_time": "2023-10-05T07:54:26.956768900Z",
     "start_time": "2023-10-05T07:54:20.912976300Z"
    }
   },
   "outputs": [
    {
     "name": "stderr",
     "output_type": "stream",
     "text": [
      "[nltk_data] Downloading package punkt to\n",
      "[nltk_data]     C:\\Users\\davan\\AppData\\Roaming\\nltk_data...\n",
      "[nltk_data]   Unzipping tokenizers\\punkt.zip.\n"
     ]
    },
    {
     "data": {
      "text/plain": "True"
     },
     "execution_count": 79,
     "metadata": {},
     "output_type": "execute_result"
    }
   ],
   "source": [
    "# if your machine doesn't have these libraries, you need to install them\n",
    "import pandas as pd\n",
    "import nltk\n",
    "from sklearn.feature_extraction.text import TfidfVectorizer\n",
    "from nltk.corpus import stopwords\n",
    "\n",
    "# download the punkt\n",
    "nltk.download('punkt')"
   ]
  },
  {
   "cell_type": "code",
   "execution_count": 83,
   "id": "69087c67",
   "metadata": {
    "ExecuteTime": {
     "end_time": "2023-10-05T07:56:35.586822900Z",
     "start_time": "2023-10-05T07:56:35.574297Z"
    }
   },
   "outputs": [
    {
     "name": "stderr",
     "output_type": "stream",
     "text": [
      "[nltk_data] Downloading package wordnet to\n",
      "[nltk_data]     C:\\Users\\davan\\AppData\\Roaming\\nltk_data...\n",
      "[nltk_data]   Package wordnet is already up-to-date!\n",
      "[nltk_data] Downloading package stopwords to\n",
      "[nltk_data]     C:\\Users\\davan\\AppData\\Roaming\\nltk_data...\n",
      "[nltk_data]   Package stopwords is already up-to-date!\n",
      "[nltk_data] Downloading package wordnet to\n",
      "[nltk_data]     C:\\Users\\davan\\AppData\\Roaming\\nltk_data...\n",
      "[nltk_data]   Package wordnet is already up-to-date!\n"
     ]
    }
   ],
   "source": [
    "\n",
    "# Initialize NLTK's lemmatizer and download stopwords\n",
    "nltk.download('wordnet')\n",
    "nltk.download('stopwords')\n",
    "# Initialize NLTK's lemmatizer\n",
    "nltk.download('wordnet')\n",
    "from nltk.stem import WordNetLemmatizer\n",
    "from nltk.stem import PorterStemmer\n",
    "lemmatizer = WordNetLemmatizer()\n",
    "ps = PorterStemmer()\n",
    "\n",
    "# Tokenize documents into words (terms), remove punctuation, lemmatize, and remove stopwords\n",
    "def preprocess_text(document):\n",
    "    terms = nltk.word_tokenize(document)\n",
    "    terms = [term.strip(string.punctuation) for term in terms]\n",
    "    terms = [ps.stem(term) for term in terms]\n",
    "    terms = [term.lower() for term in terms if term not in stopwords.words('english')]\n",
    "    return ' '.join(terms)"
   ]
  },
  {
   "cell_type": "code",
   "execution_count": 84,
   "id": "0c050db8",
   "metadata": {
    "ExecuteTime": {
     "end_time": "2023-10-05T07:57:01.657200200Z",
     "start_time": "2023-10-05T07:57:01.621929200Z"
    }
   },
   "outputs": [],
   "source": [
    "# Preprocess the text in the documents\n",
    "# preprocessed_documents = # your code here ...\n",
    "preprocessed_documents = [preprocess_text(document) for document in documents]\n",
    "\n",
    "# Create a TfidfVectorizer instance\n",
    "vectorizer = TfidfVectorizer()"
   ]
  },
  {
   "cell_type": "code",
   "execution_count": 85,
   "id": "2ded965f",
   "metadata": {
    "ExecuteTime": {
     "end_time": "2023-10-05T07:57:11.512978600Z",
     "start_time": "2023-10-05T07:57:11.486780400Z"
    }
   },
   "outputs": [],
   "source": [
    "# Fit and transform the preprocessed documents to compute TF-IDF values CADT@0zJanZ!\n",
    "tfidf_matrix = vectorizer.fit_transform(preprocessed_documents)\n",
    "# Convert the TF-IDF matrix to a DataFrame\n",
    "df_tfidf = pd.DataFrame(tfidf_matrix.toarray(), columns=vectorizer.get_feature_names_out())"
   ]
  },
  {
   "cell_type": "code",
   "execution_count": 86,
   "id": "d2e4c443",
   "metadata": {
    "ExecuteTime": {
     "end_time": "2023-10-05T07:57:13.655138900Z",
     "start_time": "2023-10-05T07:57:13.630852300Z"
    }
   },
   "outputs": [
    {
     "name": "stdout",
     "output_type": "stream",
     "text": [
      "TF-IDF:\n",
      "    ancient   announc  astronom     chang    climat    combat     deep  \\\n",
      "0  0.000000  0.000000  0.000000  0.000000  0.000000  0.000000  0.37007   \n",
      "1  0.339992  0.000000  0.000000  0.000000  0.000000  0.000000  0.00000   \n",
      "2  0.000000  0.000000  0.000000  0.000000  0.000000  0.000000  0.00000   \n",
      "3  0.000000  0.000000  0.377964  0.000000  0.000000  0.000000  0.00000   \n",
      "4  0.000000  0.387757  0.000000  0.387757  0.387757  0.387757  0.00000   \n",
      "\n",
      "    discov   distant      drop  ...  scientist    search      sign  signific  \\\n",
      "0  0.37007  0.000000  0.000000  ...    0.37007  0.000000  0.000000  0.000000   \n",
      "1  0.00000  0.000000  0.000000  ...    0.00000  0.339992  0.339992  0.000000   \n",
      "2  0.00000  0.000000  0.377964  ...    0.00000  0.000000  0.000000  0.377964   \n",
      "3  0.00000  0.377964  0.000000  ...    0.00000  0.000000  0.000000  0.000000   \n",
      "4  0.00000  0.000000  0.000000  ...    0.00000  0.000000  0.000000  0.000000   \n",
      "\n",
      "     speci      star     stock     today     trade     unusu  \n",
      "0  0.37007  0.000000  0.000000  0.000000  0.000000  0.000000  \n",
      "1  0.00000  0.000000  0.000000  0.000000  0.000000  0.000000  \n",
      "2  0.00000  0.000000  0.377964  0.377964  0.377964  0.000000  \n",
      "3  0.00000  0.377964  0.000000  0.000000  0.000000  0.377964  \n",
      "4  0.00000  0.000000  0.000000  0.000000  0.000000  0.000000  \n",
      "\n",
      "[5 rows x 36 columns]\n"
     ]
    }
   ],
   "source": [
    "# Display TF-IDF results\n",
    "print(\"TF-IDF:\")\n",
    "print(df_tfidf)"
   ]
  }
 ],
 "metadata": {
  "kernelspec": {
   "name": "python3",
   "language": "python",
   "display_name": "Python 3 (ipykernel)"
  },
  "language_info": {
   "codemirror_mode": {
    "name": "ipython",
    "version": 3
   },
   "file_extension": ".py",
   "mimetype": "text/x-python",
   "name": "python",
   "nbconvert_exporter": "python",
   "pygments_lexer": "ipython3",
   "version": "3.9.2"
  }
 },
 "nbformat": 4,
 "nbformat_minor": 5
}
